{
 "cells": [
  {
   "cell_type": "code",
   "execution_count": 1,
   "metadata": {},
   "outputs": [],
   "source": [
    "import csv\n",
    "import random\n",
    "import numpy as np\n",
    "import pandas as pd\n",
    "import math"
   ]
  },
  {
   "cell_type": "code",
   "execution_count": 2,
   "metadata": {},
   "outputs": [],
   "source": [
    "def mean(numbers):\n",
    "    return sum(numbers) / float(len(numbers) - 1)"
   ]
  },
  {
   "cell_type": "code",
   "execution_count": 3,
   "metadata": {},
   "outputs": [],
   "source": [
    "def stddev(numbers):\n",
    "    avg = mean(numbers)\n",
    "    variance = sum([pow(x - avg, 2) for x in numbers]) / float(len(numbers) - 1)\n",
    "    return math.sqrt(variance)"
   ]
  },
  {
   "cell_type": "code",
   "execution_count": 4,
   "metadata": {},
   "outputs": [],
   "source": [
    "data = []"
   ]
  },
  {
   "cell_type": "code",
   "execution_count": 5,
   "metadata": {},
   "outputs": [],
   "source": [
    "lines = csv.reader(open('datasets/pima-indians.csv', 'r'))"
   ]
  },
  {
   "cell_type": "code",
   "execution_count": 6,
   "metadata": {},
   "outputs": [],
   "source": [
    "data = list(lines)"
   ]
  },
  {
   "cell_type": "code",
   "execution_count": 7,
   "metadata": {},
   "outputs": [],
   "source": [
    "for i in range(len(data)):\n",
    "    data[i] = [float(x) for x in data[i]]"
   ]
  },
  {
   "cell_type": "code",
   "execution_count": 8,
   "metadata": {},
   "outputs": [],
   "source": [
    "trainset = []"
   ]
  },
  {
   "cell_type": "code",
   "execution_count": 9,
   "metadata": {},
   "outputs": [],
   "source": [
    "test = list(data)"
   ]
  },
  {
   "cell_type": "code",
   "execution_count": 10,
   "metadata": {},
   "outputs": [],
   "source": [
    "while len(trainset) < 564:\n",
    "    index = random.randrange(len(test))\n",
    "    trainset.append(test.pop(index))"
   ]
  },
  {
   "cell_type": "code",
   "execution_count": 11,
   "metadata": {},
   "outputs": [],
   "source": [
    "seperated = {}"
   ]
  },
  {
   "cell_type": "code",
   "execution_count": 12,
   "metadata": {},
   "outputs": [],
   "source": [
    "for i in range(564):\n",
    "    vector = data[i]\n",
    "    if vector[-1] not in seperated:\n",
    "        seperated[vector[-1]] = []\n",
    "    seperated[vector[-1]].append(vector[0:-1])"
   ]
  },
  {
   "cell_type": "code",
   "execution_count": 13,
   "metadata": {},
   "outputs": [],
   "source": [
    "summaries = {}"
   ]
  },
  {
   "cell_type": "code",
   "execution_count": 14,
   "metadata": {},
   "outputs": [],
   "source": [
    "for classvalue, instances in seperated.items():\n",
    "    for attribute in zip(*instances):\n",
    "        summaries[classvalue] =[(mean(attribute), stddev(attribute)) for attribute in zip(*instances)]"
   ]
  },
  {
   "cell_type": "code",
   "execution_count": 15,
   "metadata": {},
   "outputs": [],
   "source": [
    "prediction = []"
   ]
  },
  {
   "cell_type": "code",
   "execution_count": 16,
   "metadata": {},
   "outputs": [],
   "source": [
    "for i in range(204):\n",
    "    probabilities = {}\n",
    "    vector = test[i]\n",
    "    for classvalue, classummary in summaries.items():\n",
    "        probabilities[classvalue] = 1\n",
    "        for j in range(len(classummary)):\n",
    "            smean, sstdev = classummary[j]\n",
    "            x = vector[j]\n",
    "            expo = math.exp(-(math.pow(x - smean, 2)/(2 * math.pow(sstdev, 2))))\n",
    "            probabilities[classvalue] *= (1 / (math.sqrt(2 * math.pi) * sstdev)) * expo\n",
    "        bestlabel, bestprob = None, -1\n",
    "        for classvalue, probability in probabilities.items():\n",
    "            if bestlabel is None or probability > bestprob:\n",
    "                bestprob = probability\n",
    "                bestlabel = classvalue\n",
    "        result = bestprob, bestlabel\n",
    "        prediction.append(result)"
   ]
  },
  {
   "cell_type": "code",
   "execution_count": 17,
   "metadata": {},
   "outputs": [],
   "source": [
    "correct = 0"
   ]
  },
  {
   "cell_type": "code",
   "execution_count": 18,
   "metadata": {},
   "outputs": [
    {
     "name": "stdout",
     "output_type": "stream",
     "text": [
      "1.0   1.0\n",
      "1.0   1.0\n",
      "0.0   1.0\n",
      "0.0   0.0\n",
      "1.0   1.0\n",
      "1.0   0.0\n",
      "0.0   1.0\n",
      "1.0   1.0\n",
      "1.0   1.0\n",
      "0.0   1.0\n",
      "0.0   1.0\n",
      "1.0   1.0\n",
      "0.0   1.0\n",
      "0.0   0.0\n",
      "0.0   1.0\n",
      "1.0   1.0\n",
      "0.0   1.0\n",
      "0.0   1.0\n",
      "0.0   1.0\n",
      "1.0   1.0\n",
      "0.0   1.0\n",
      "0.0   0.0\n",
      "0.0   1.0\n",
      "0.0   1.0\n",
      "1.0   1.0\n",
      "0.0   0.0\n",
      "1.0   1.0\n",
      "1.0   0.0\n",
      "0.0   1.0\n",
      "0.0   0.0\n",
      "0.0   1.0\n",
      "0.0   1.0\n",
      "1.0   1.0\n",
      "1.0   0.0\n",
      "0.0   1.0\n",
      "1.0   0.0\n",
      "1.0   1.0\n",
      "0.0   1.0\n",
      "0.0   1.0\n",
      "1.0   1.0\n",
      "0.0   1.0\n",
      "0.0   0.0\n",
      "0.0   1.0\n",
      "0.0   0.0\n",
      "1.0   1.0\n",
      "0.0   0.0\n",
      "0.0   1.0\n",
      "1.0   0.0\n",
      "0.0   1.0\n",
      "1.0   1.0\n",
      "1.0   1.0\n",
      "0.0   0.0\n",
      "0.0   1.0\n",
      "1.0   0.0\n",
      "1.0   1.0\n",
      "0.0   1.0\n",
      "1.0   1.0\n",
      "1.0   0.0\n",
      "0.0   1.0\n",
      "1.0   0.0\n",
      "1.0   1.0\n",
      "1.0   0.0\n",
      "1.0   1.0\n",
      "0.0   0.0\n",
      "0.0   1.0\n",
      "0.0   0.0\n",
      "1.0   1.0\n",
      "0.0   0.0\n",
      "0.0   1.0\n",
      "1.0   0.0\n",
      "0.0   1.0\n",
      "0.0   0.0\n",
      "0.0   1.0\n",
      "1.0   1.0\n",
      "0.0   1.0\n",
      "1.0   0.0\n",
      "0.0   1.0\n",
      "0.0   0.0\n",
      "0.0   1.0\n",
      "1.0   1.0\n",
      "0.0   1.0\n",
      "0.0   1.0\n",
      "1.0   1.0\n",
      "1.0   1.0\n",
      "1.0   1.0\n",
      "1.0   0.0\n",
      "1.0   1.0\n",
      "0.0   0.0\n",
      "1.0   1.0\n",
      "1.0   1.0\n",
      "0.0   1.0\n",
      "1.0   0.0\n",
      "0.0   1.0\n",
      "1.0   0.0\n",
      "0.0   1.0\n",
      "1.0   1.0\n",
      "0.0   1.0\n",
      "0.0   0.0\n",
      "0.0   1.0\n",
      "0.0   0.0\n",
      "0.0   1.0\n",
      "1.0   0.0\n",
      "1.0   1.0\n",
      "0.0   1.0\n",
      "0.0   1.0\n",
      "0.0   1.0\n",
      "1.0   1.0\n",
      "0.0   1.0\n",
      "0.0   1.0\n",
      "0.0   0.0\n",
      "0.0   1.0\n",
      "1.0   0.0\n",
      "0.0   1.0\n",
      "0.0   1.0\n",
      "1.0   1.0\n",
      "0.0   1.0\n",
      "0.0   1.0\n",
      "0.0   0.0\n",
      "1.0   1.0\n",
      "0.0   1.0\n",
      "0.0   1.0\n",
      "0.0   1.0\n",
      "0.0   1.0\n",
      "1.0   0.0\n",
      "1.0   1.0\n",
      "0.0   1.0\n",
      "0.0   1.0\n",
      "1.0   1.0\n",
      "0.0   1.0\n",
      "0.0   1.0\n",
      "0.0   1.0\n",
      "1.0   0.0\n",
      "0.0   1.0\n",
      "0.0   1.0\n",
      "0.0   1.0\n",
      "0.0   0.0\n",
      "0.0   1.0\n",
      "0.0   0.0\n",
      "1.0   1.0\n",
      "0.0   1.0\n",
      "0.0   1.0\n",
      "0.0   0.0\n",
      "0.0   1.0\n",
      "1.0   0.0\n",
      "0.0   1.0\n",
      "0.0   0.0\n",
      "0.0   1.0\n",
      "0.0   0.0\n",
      "0.0   1.0\n",
      "1.0   1.0\n",
      "0.0   1.0\n",
      "1.0   0.0\n",
      "0.0   1.0\n",
      "0.0   1.0\n",
      "0.0   1.0\n",
      "0.0   1.0\n",
      "0.0   1.0\n",
      "0.0   0.0\n",
      "0.0   1.0\n",
      "0.0   1.0\n",
      "1.0   1.0\n",
      "1.0   0.0\n",
      "1.0   1.0\n",
      "0.0   0.0\n",
      "1.0   1.0\n",
      "0.0   1.0\n",
      "1.0   1.0\n",
      "1.0   1.0\n",
      "0.0   1.0\n",
      "0.0   1.0\n",
      "0.0   1.0\n",
      "1.0   0.0\n",
      "0.0   1.0\n",
      "0.0   1.0\n",
      "0.0   1.0\n",
      "0.0   0.0\n",
      "0.0   1.0\n",
      "0.0   1.0\n",
      "0.0   1.0\n",
      "1.0   0.0\n",
      "0.0   1.0\n",
      "1.0   0.0\n",
      "0.0   1.0\n",
      "0.0   0.0\n",
      "1.0   1.0\n",
      "1.0   1.0\n",
      "1.0   1.0\n",
      "0.0   0.0\n",
      "1.0   1.0\n",
      "1.0   0.0\n",
      "1.0   1.0\n",
      "1.0   0.0\n",
      "0.0   1.0\n",
      "0.0   0.0\n",
      "0.0   1.0\n",
      "1.0   0.0\n",
      "0.0   1.0\n",
      "0.0   0.0\n",
      "0.0   1.0\n",
      "1.0   0.0\n",
      "0.0   1.0\n",
      "1.0   1.0\n",
      "0.0   1.0\n",
      "0.0   1.0\n"
     ]
    }
   ],
   "source": [
    "for i in range(204):\n",
    "    print(test[i][-1], \" \", prediction[i][-1])\n",
    "    if test[i][-1] == prediction[i][-1]:\n",
    "        correct += 1"
   ]
  },
  {
   "cell_type": "code",
   "execution_count": 19,
   "metadata": {},
   "outputs": [
    {
     "name": "stdout",
     "output_type": "stream",
     "text": [
      "80\n"
     ]
    }
   ],
   "source": [
    "print(correct)"
   ]
  },
  {
   "cell_type": "code",
   "execution_count": 20,
   "metadata": {},
   "outputs": [
    {
     "name": "stdout",
     "output_type": "stream",
     "text": [
      "Accuracy: 39.21568627450981\n"
     ]
    }
   ],
   "source": [
    "print('Accuracy: {0}'.format((correct / 204.0) * 100))"
   ]
  },
  {
   "cell_type": "code",
   "execution_count": null,
   "metadata": {},
   "outputs": [],
   "source": []
  }
 ],
 "metadata": {
  "kernelspec": {
   "display_name": "Python 3",
   "language": "python",
   "name": "python3"
  },
  "language_info": {
   "codemirror_mode": {
    "name": "ipython",
    "version": 3
   },
   "file_extension": ".py",
   "mimetype": "text/x-python",
   "name": "python",
   "nbconvert_exporter": "python",
   "pygments_lexer": "ipython3",
   "version": "3.6.4"
  }
 },
 "nbformat": 4,
 "nbformat_minor": 2
}
